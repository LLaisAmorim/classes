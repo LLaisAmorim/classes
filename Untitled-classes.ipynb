{
 "cells": [
  {
   "cell_type": "code",
   "execution_count": 2,
   "metadata": {},
   "outputs": [
    {
     "name": "stdout",
     "output_type": "stream",
     "text": [
      "Nome: Camila, Idade: 28, Ano de Nascimento: 1996\n",
      "Nome: Vitoria, Idade: 38, Ano de Nascimento: 1986\n",
      "Nome: Marina, Idade: 43, Ano de Nascimento: 1981\n",
      "Nome: Laiza, Idade: 22, Ano de Nascimento: 2002\n",
      "Nome: Joana, Idade: 48, Ano de Nascimento: 1976\n"
     ]
    }
   ],
   "source": [
    "class Pessoa:\n",
    "    def __init__(self, name, age):\n",
    "        self.nome = name\n",
    "        self.idade = age\n",
    "\n",
    "    def nascimento(self):\n",
    "        return (2024 - self.idade)\n",
    "\n",
    "pessoa1 = Pessoa(\"Camila\", 28)\n",
    "pessoa2 = Pessoa(\"Vitoria\", 38)\n",
    "pessoa3 = Pessoa(\"Marina\", 43)\n",
    "pessoa4 = Pessoa(\"Laiza\", 22)\n",
    "pessoa5 = Pessoa(\"Joana\", 48)\n",
    "\n",
    "lista_pessoas = [pessoa1, pessoa2, pessoa3, pessoa4, pessoa5]\n",
    "\n",
    "for pessoa in lista_pessoas:\n",
    "    print(f\"Nome: {pessoa.nome}, Idade: {pessoa.idade}, Ano de Nascimento: {pessoa.nascimento()}\")"
   ]
  }
 ],
 "metadata": {
  "kernelspec": {
   "display_name": "Python 3",
   "language": "python",
   "name": "python3"
  },
  "language_info": {
   "codemirror_mode": {
    "name": "ipython",
    "version": 3
   },
   "file_extension": ".py",
   "mimetype": "text/x-python",
   "name": "python",
   "nbconvert_exporter": "python",
   "pygments_lexer": "ipython3",
   "version": "3.11.9"
  }
 },
 "nbformat": 4,
 "nbformat_minor": 2
}
